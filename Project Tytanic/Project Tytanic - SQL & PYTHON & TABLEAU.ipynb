{
 "cells": [
  {
   "cell_type": "markdown",
   "id": "b8d75a3d-1222-4e31-94ee-7cb3183b23a3",
   "metadata": {},
   "source": [
    "## Step 1. Kick-off meeting with management\n",
    "\n",
    "Imagine you work for a company that builds ships and wants to investigate the Titanic tragedy to improve their designs. They aim to ensure that in emergencies, all passengers, regardless of class and age, have equal access to emergency exits and equipment. The team suspects that higher-class passengers on the Titanic had higher survival chances, and wants you to visualize the data to verify this suspicion.\n",
    "\n",
    "M: Hey Alex! How are you?\n",
    "\n",
    "A: Hey! I am fine you?\n",
    "\n",
    "...little chat\n",
    "\n",
    "M: Titanic tragedy...\n",
    "\n",
    "M: So we are trying to understand whether there was a problem with how cabins on Titanic were built. To understand that we would like to see if survival rate has anything to do with passenger class.\n",
    "\n",
    "A: Am I understanding correctly, your goal is to see which passenger class had how many people survived? And you would like to see if there is any difference among the passenger classes in terms of survival rate?\n",
    "\n",
    "M: Yes, you are correct.\n",
    "\n",
    "A: Ok, would that be ok if we show a bar plot where you would have all the\n",
    "classes on the X-axis and the number of people who survived on the Y-axis? Also, we add another bar plot, where we show the survival rate in % for each of the passenger classes.\n",
    "\n",
    "M: Yes, that would be great.\n",
    "\n",
    "A: Would you like to have any filters on the data? For example, would you like to be able to filter data by age? This might help you understand if the difference between classes grows or shrinks for older people or children, who might be more vulnerable.\n",
    "\n",
    "M: Yes, please. This makes sense.\n",
    "\n",
    "Ohh, one more thing. Let us also have one more visual for different age categories, so I can clearly see the difference. Children, adults, and seniors. We would like to see that to have a broader picture on the survival rates, since age is certainly a factor.\n",
    "\n",
    "A: Ok, how would we define these categories? Which age are children, which are adults, and which are seniors?\n",
    "\n",
    "M: Please, you figure that out and suggest it during the next meeting.\n",
    "\n",
    "A: Ok, let us quickly document the task."
   ]
  },
  {
   "cell_type": "markdown",
   "id": "57524466-406a-4ba5-9372-e4e46e2b4773",
   "metadata": {},
   "source": [
    "## Step 2. Documenting a task during a meeting\n",
    "\n",
    "### Meeting documentation template\n",
    "\n",
    "**Goal**: See is survivial rate had anything to do with passenger class. Also, assess the age of the passengers within each class to identify vulnerable age categories.\n",
    "\n",
    "**Visualisation**\n",
    "(bar, pie, column etc.):\n",
    "- Bar plot 1\n",
    "  - Numeric column and aggregation (sum, percentage etc.):\n",
    "  Survived - sum\n",
    "  - Categorical column: Pclass\n",
    "  - Active filters: Age\n",
    "\n",
    "- Bar plot 2\n",
    "  - Numeric column and aggregation (sum, percentage etc.):\n",
    "  Survived percentage\n",
    "  - Categorical column: Pclass\n",
    "  - Active filters: Age\n",
    "\n",
    "- Bar plot 3\n",
    "  - Numeric column and aggregation (sum, percentage etc.):\n",
    "  Survived percentage\n",
    "  - Categorical column 1: Pclass\n",
    "  - Categorical column 2: Age (children, adults, seniors)\n",
    "  - Active filters: None"
   ]
  },
  {
   "cell_type": "code",
   "execution_count": 3,
   "id": "f0efdb0a-32d9-42ae-b914-bfbaa49af72e",
   "metadata": {},
   "outputs": [],
   "source": [
    "import pandas as pd\n",
    "import gdown"
   ]
  },
  {
   "cell_type": "code",
   "execution_count": 4,
   "id": "cea1b6ed-06a4-4c04-8b3a-e92de088d63d",
   "metadata": {},
   "outputs": [
    {
     "name": "stderr",
     "output_type": "stream",
     "text": [
      "Downloading...\n",
      "From: https://drive.google.com/uc?id=15cFsnPnHc7KlzV0C9QQ5wG5v8PWqJ65C\n",
      "To: /Users/teshz/Desktop/Data_science/python/Project Tytanic/downloaded_file.csv\n",
      "100%|███████████████████████████████████████| 61.2k/61.2k [00:00<00:00, 499kB/s]\n"
     ]
    }
   ],
   "source": [
    "#@title Step 1. Ask a data engeneer to prepare the data for you\n",
    "# File ID from the Google Drive link\n",
    "file_id = '15cFsnPnHc7KlzV0C9QQ5wG5v8PWqJ65C'\n",
    "\n",
    "download_url = f'https://drive.google.com/uc?id={file_id}'\n",
    "\n",
    "# Download the file\n",
    "output_file = 'downloaded_file.csv'\n",
    "gdown.download(download_url, output_file, quiet=False)\n",
    "\n",
    "# Load the CSV file into a pandas DataFrame\n",
    "df = pd.read_csv(output_file)\n",
    "\n",
    "# Assuming ipython-sql is installed\n",
    "%load_ext sql\n",
    "\n",
    "# Use a file-based SQLite database\n",
    "database_filename = 'my_database.db'\n",
    "df.to_sql('titanic_data', f'sqlite:///{database_filename}', if_exists='replace', index=False)\n",
    "\n",
    "# Now connect ipython-sql to the same file-based database\n",
    "%sql sqlite:///my_database.db"
   ]
  },
  {
   "cell_type": "code",
   "execution_count": 5,
   "id": "27e2d6ce-9adc-471e-a4a8-8c75fbb340eb",
   "metadata": {},
   "outputs": [
    {
     "name": "stdout",
     "output_type": "stream",
     "text": [
      " * sqlite:///my_database.db\n",
      "Done.\n"
     ]
    }
   ],
   "source": [
    "#@title Step 2. SQL — Query the data\n",
    "# Query the data to see if it works\n",
    "\n",
    "project_data = %sql select Survived, Pclass, Age from titanic_data;\n"
   ]
  },
  {
   "cell_type": "code",
   "execution_count": 6,
   "id": "7538b4b7-f37f-41b5-8b46-16d1d156a563",
   "metadata": {},
   "outputs": [
    {
     "data": {
      "text/html": [
       "<div>\n",
       "<style scoped>\n",
       "    .dataframe tbody tr th:only-of-type {\n",
       "        vertical-align: middle;\n",
       "    }\n",
       "\n",
       "    .dataframe tbody tr th {\n",
       "        vertical-align: top;\n",
       "    }\n",
       "\n",
       "    .dataframe thead th {\n",
       "        text-align: right;\n",
       "    }\n",
       "</style>\n",
       "<table border=\"1\" class=\"dataframe\">\n",
       "  <thead>\n",
       "    <tr style=\"text-align: right;\">\n",
       "      <th></th>\n",
       "      <th>Survived</th>\n",
       "      <th>Pclass</th>\n",
       "      <th>Age</th>\n",
       "    </tr>\n",
       "  </thead>\n",
       "  <tbody>\n",
       "    <tr>\n",
       "      <th>0</th>\n",
       "      <td>0</td>\n",
       "      <td>3</td>\n",
       "      <td>22.0</td>\n",
       "    </tr>\n",
       "    <tr>\n",
       "      <th>1</th>\n",
       "      <td>1</td>\n",
       "      <td>1</td>\n",
       "      <td>38.0</td>\n",
       "    </tr>\n",
       "    <tr>\n",
       "      <th>2</th>\n",
       "      <td>1</td>\n",
       "      <td>3</td>\n",
       "      <td>26.0</td>\n",
       "    </tr>\n",
       "    <tr>\n",
       "      <th>3</th>\n",
       "      <td>1</td>\n",
       "      <td>1</td>\n",
       "      <td>35.0</td>\n",
       "    </tr>\n",
       "    <tr>\n",
       "      <th>4</th>\n",
       "      <td>0</td>\n",
       "      <td>3</td>\n",
       "      <td>35.0</td>\n",
       "    </tr>\n",
       "  </tbody>\n",
       "</table>\n",
       "</div>"
      ],
      "text/plain": [
       "   Survived  Pclass   Age\n",
       "0         0       3  22.0\n",
       "1         1       1  38.0\n",
       "2         1       3  26.0\n",
       "3         1       1  35.0\n",
       "4         0       3  35.0"
      ]
     },
     "execution_count": 6,
     "metadata": {},
     "output_type": "execute_result"
    }
   ],
   "source": [
    "#@title Step 3. Python\n",
    "\n",
    "# Get the data to Python environment\n",
    "\n",
    "df = pd.DataFrame(project_data)\n",
    "\n",
    "df.head()"
   ]
  },
  {
   "cell_type": "code",
   "execution_count": 7,
   "id": "03cf6372-b63d-4da1-b6f8-3528adfa7b76",
   "metadata": {},
   "outputs": [
    {
     "name": "stdout",
     "output_type": "stream",
     "text": [
      "Basic information: \n",
      "<class 'pandas.core.frame.DataFrame'>\n",
      "RangeIndex: 891 entries, 0 to 890\n",
      "Data columns (total 3 columns):\n",
      " #   Column    Non-Null Count  Dtype  \n",
      "---  ------    --------------  -----  \n",
      " 0   Survived  891 non-null    int64  \n",
      " 1   Pclass    891 non-null    int64  \n",
      " 2   Age       714 non-null    float64\n",
      "dtypes: float64(1), int64(2)\n",
      "memory usage: 21.0 KB\n",
      "None\n",
      "\n",
      "Summary Statistics: \n",
      "         Survived      Pclass         Age\n",
      "count  891.000000  891.000000  714.000000\n",
      "mean     0.383838    2.308642   29.699118\n",
      "std      0.486592    0.836071   14.526497\n",
      "min      0.000000    1.000000    0.420000\n",
      "25%      0.000000    2.000000   20.125000\n",
      "50%      0.000000    3.000000   28.000000\n",
      "75%      1.000000    3.000000   38.000000\n",
      "max      1.000000    3.000000   80.000000\n",
      "\n",
      "Number of missing values\n",
      "Survived      0\n",
      "Pclass        0\n",
      "Age         177\n",
      "dtype: int64\n"
     ]
    }
   ],
   "source": [
    "print('Basic information: ')\n",
    "print(df.info())\n",
    "\n",
    "print('\\nSummary Statistics: ')\n",
    "print(df.describe())\n",
    "\n",
    "print('\\nNumber of missing values')\n",
    "print(df.isnull().sum())"
   ]
  },
  {
   "cell_type": "code",
   "execution_count": 8,
   "id": "e7164c9a-63fa-40d8-9526-4d3d112113e0",
   "metadata": {},
   "outputs": [
    {
     "name": "stdout",
     "output_type": "stream",
     "text": [
      "0\n"
     ]
    },
    {
     "name": "stderr",
     "output_type": "stream",
     "text": [
      "/var/folders/03/py89ssjx1110z55j44c3sbfc0000gn/T/ipykernel_15296/2420191929.py:3: FutureWarning: A value is trying to be set on a copy of a DataFrame or Series through chained assignment using an inplace method.\n",
      "The behavior will change in pandas 3.0. This inplace method will never work because the intermediate object on which we are setting values always behaves as a copy.\n",
      "\n",
      "For example, when doing 'df[col].method(value, inplace=True)', try using 'df.method({col: value}, inplace=True)' or df[col] = df[col].method(value) instead, to perform the operation inplace on the original object.\n",
      "\n",
      "\n",
      "  df['Age'].fillna(age_mean, inplace=True)\n"
     ]
    }
   ],
   "source": [
    "#fill missing values in age column by mean of column\n",
    "age_mean = df['Age'].mean()\n",
    "df['Age'].fillna(age_mean, inplace=True)\n",
    "\n",
    "#check\n",
    "print(df['Age'].isnull().sum())"
   ]
  },
  {
   "cell_type": "code",
   "execution_count": 9,
   "id": "1b3ed310-f766-4ba9-853f-425f8a85297a",
   "metadata": {},
   "outputs": [
    {
     "data": {
      "text/html": [
       "<div>\n",
       "<style scoped>\n",
       "    .dataframe tbody tr th:only-of-type {\n",
       "        vertical-align: middle;\n",
       "    }\n",
       "\n",
       "    .dataframe tbody tr th {\n",
       "        vertical-align: top;\n",
       "    }\n",
       "\n",
       "    .dataframe thead th {\n",
       "        text-align: right;\n",
       "    }\n",
       "</style>\n",
       "<table border=\"1\" class=\"dataframe\">\n",
       "  <thead>\n",
       "    <tr style=\"text-align: right;\">\n",
       "      <th></th>\n",
       "      <th>Survived</th>\n",
       "      <th>Pclass</th>\n",
       "      <th>Age</th>\n",
       "    </tr>\n",
       "  </thead>\n",
       "  <tbody>\n",
       "    <tr>\n",
       "      <th>count</th>\n",
       "      <td>891.000000</td>\n",
       "      <td>891.000000</td>\n",
       "      <td>891.000000</td>\n",
       "    </tr>\n",
       "    <tr>\n",
       "      <th>mean</th>\n",
       "      <td>0.383838</td>\n",
       "      <td>2.308642</td>\n",
       "      <td>29.754209</td>\n",
       "    </tr>\n",
       "    <tr>\n",
       "      <th>std</th>\n",
       "      <td>0.486592</td>\n",
       "      <td>0.836071</td>\n",
       "      <td>13.000828</td>\n",
       "    </tr>\n",
       "    <tr>\n",
       "      <th>min</th>\n",
       "      <td>0.000000</td>\n",
       "      <td>1.000000</td>\n",
       "      <td>0.000000</td>\n",
       "    </tr>\n",
       "    <tr>\n",
       "      <th>25%</th>\n",
       "      <td>0.000000</td>\n",
       "      <td>2.000000</td>\n",
       "      <td>22.000000</td>\n",
       "    </tr>\n",
       "    <tr>\n",
       "      <th>50%</th>\n",
       "      <td>0.000000</td>\n",
       "      <td>3.000000</td>\n",
       "      <td>30.000000</td>\n",
       "    </tr>\n",
       "    <tr>\n",
       "      <th>75%</th>\n",
       "      <td>1.000000</td>\n",
       "      <td>3.000000</td>\n",
       "      <td>35.000000</td>\n",
       "    </tr>\n",
       "    <tr>\n",
       "      <th>max</th>\n",
       "      <td>1.000000</td>\n",
       "      <td>3.000000</td>\n",
       "      <td>80.000000</td>\n",
       "    </tr>\n",
       "  </tbody>\n",
       "</table>\n",
       "</div>"
      ],
      "text/plain": [
       "         Survived      Pclass         Age\n",
       "count  891.000000  891.000000  891.000000\n",
       "mean     0.383838    2.308642   29.754209\n",
       "std      0.486592    0.836071   13.000828\n",
       "min      0.000000    1.000000    0.000000\n",
       "25%      0.000000    2.000000   22.000000\n",
       "50%      0.000000    3.000000   30.000000\n",
       "75%      1.000000    3.000000   35.000000\n",
       "max      1.000000    3.000000   80.000000"
      ]
     },
     "execution_count": 9,
     "metadata": {},
     "output_type": "execute_result"
    }
   ],
   "source": [
    "df['Age'] = df['Age'].round()\n",
    "df.describe()"
   ]
  },
  {
   "cell_type": "code",
   "execution_count": 10,
   "id": "40b6f915-dbe6-48f6-bbf1-f993654bccc4",
   "metadata": {},
   "outputs": [
    {
     "data": {
      "text/plain": [
       "Age_Category\n",
       "Youth&Adults    802\n",
       "Children         78\n",
       "Seniors          11\n",
       "Name: count, dtype: int64"
      ]
     },
     "execution_count": 10,
     "metadata": {},
     "output_type": "execute_result"
    }
   ],
   "source": [
    "#create a category column to recognize age by category\n",
    "def Age_Category_Def(age):\n",
    "  if age <= 14:\n",
    "    return 'Children'\n",
    "  elif 15 <= age <= 64:\n",
    "    return 'Youth&Adults'\n",
    "  else:\n",
    "    return 'Seniors'\n",
    "\n",
    "\n",
    "df['Age_Category'] = df['Age'].apply(Age_Category_Def)\n",
    "\n",
    "df['Age_Category'].value_counts()\n"
   ]
  },
  {
   "cell_type": "code",
   "execution_count": 11,
   "id": "97e01744-1e48-459e-a981-0b619965840e",
   "metadata": {},
   "outputs": [],
   "source": [
    "df.to_excel('output.xlsx', index=False)"
   ]
  },
  {
   "cell_type": "code",
   "execution_count": 12,
   "id": "3339c37f-0237-471e-a00a-ad3880ce7147",
   "metadata": {},
   "outputs": [
    {
     "data": {
      "text/html": [
       "\n",
       "<div class='tableauPlaceholder' id='viz1724321175284' style='position: relative'><noscript><a href='#'><img alt='Dashboard 1 ' src='https:&#47;&#47;public.tableau.com&#47;static&#47;images&#47;69&#47;69C5QKG6B&#47;1_rss.png' style='border: none' /></a></noscript><object class='tableauViz'  style='display:none;'><param name='host_url' value='https%3A%2F%2Fpublic.tableau.com%2F' /> <param name='embed_code_version' value='3' /> <param name='path' value='shared&#47;69C5QKG6B' /> <param name='toolbar' value='yes' /><param name='static_image' value='https:&#47;&#47;public.tableau.com&#47;static&#47;images&#47;69&#47;69C5QKG6B&#47;1.png' /> <param name='animate_transition' value='yes' /><param name='display_static_image' value='yes' /><param name='display_spinner' value='yes' /><param name='display_overlay' value='yes' /><param name='display_count' value='yes' /><param name='language' value='en-GB' /></object></div>                <script type='text/javascript'>                    var divElement = document.getElementById('viz1724321175284');                    var vizElement = divElement.getElementsByTagName('object')[0];                    if ( divElement.offsetWidth > 800 ) { vizElement.style.width='1024px';vizElement.style.height='795px';} else if ( divElement.offsetWidth > 500 ) { vizElement.style.width='1024px';vizElement.style.height='795px';} else { vizElement.style.width='100%';vizElement.style.height='1377px';}                     var scriptElement = document.createElement('script');                    scriptElement.src = 'https://public.tableau.com/javascripts/api/viz_v1.js';                    vizElement.parentNode.insertBefore(scriptElement, vizElement);                </script>\n"
      ],
      "text/plain": [
       "<IPython.core.display.HTML object>"
      ]
     },
     "execution_count": 12,
     "metadata": {},
     "output_type": "execute_result"
    }
   ],
   "source": [
    "#@title Tableau Dashboard\n",
    "from IPython.display import HTML\n",
    "\n",
    "HTML(\"\"\"\n",
    "<div class='tableauPlaceholder' id='viz1724321175284' style='position: relative'><noscript><a href='#'><img alt='Dashboard 1 ' src='https:&#47;&#47;public.tableau.com&#47;static&#47;images&#47;69&#47;69C5QKG6B&#47;1_rss.png' style='border: none' /></a></noscript><object class='tableauViz'  style='display:none;'><param name='host_url' value='https%3A%2F%2Fpublic.tableau.com%2F' /> <param name='embed_code_version' value='3' /> <param name='path' value='shared&#47;69C5QKG6B' /> <param name='toolbar' value='yes' /><param name='static_image' value='https:&#47;&#47;public.tableau.com&#47;static&#47;images&#47;69&#47;69C5QKG6B&#47;1.png' /> <param name='animate_transition' value='yes' /><param name='display_static_image' value='yes' /><param name='display_spinner' value='yes' /><param name='display_overlay' value='yes' /><param name='display_count' value='yes' /><param name='language' value='en-GB' /></object></div>                <script type='text/javascript'>                    var divElement = document.getElementById('viz1724321175284');                    var vizElement = divElement.getElementsByTagName('object')[0];                    if ( divElement.offsetWidth > 800 ) { vizElement.style.width='1024px';vizElement.style.height='795px';} else if ( divElement.offsetWidth > 500 ) { vizElement.style.width='1024px';vizElement.style.height='795px';} else { vizElement.style.width='100%';vizElement.style.height='1377px';}                     var scriptElement = document.createElement('script');                    scriptElement.src = 'https://public.tableau.com/javascripts/api/viz_v1.js';                    vizElement.parentNode.insertBefore(scriptElement, vizElement);                </script>\n",
    "\"\"\")\n"
   ]
  },
  {
   "cell_type": "markdown",
   "id": "8c77947f-c6dd-4869-b622-6990aa37333e",
   "metadata": {},
   "source": [
    "[Link Tableau](https://public.tableau.com/shared/69C5QKG6B?:display_count=n&:origin=viz_share_link)\n",
    "\n",
    "**Goal**: See is survivial rate had anything to do with passenger class. Also, assess the age of the passengers within each class to identify vulnerable age categories.\n",
    "\n",
    "**Assessment**: Survived and survived % by passenger class: On this visualistion we see, that passenger class have impact to survived %. Pclass1 is 63% survived, pclass2 47%, pclass3 24%."
   ]
  },
  {
   "cell_type": "code",
   "execution_count": null,
   "id": "c7dc5e47-fbba-4d14-9fd7-40489f3cd86e",
   "metadata": {},
   "outputs": [],
   "source": []
  }
 ],
 "metadata": {
  "kernelspec": {
   "display_name": "Python 3 (ipykernel)",
   "language": "python",
   "name": "python3"
  },
  "language_info": {
   "codemirror_mode": {
    "name": "ipython",
    "version": 3
   },
   "file_extension": ".py",
   "mimetype": "text/x-python",
   "name": "python",
   "nbconvert_exporter": "python",
   "pygments_lexer": "ipython3",
   "version": "3.12.4"
  }
 },
 "nbformat": 4,
 "nbformat_minor": 5
}
